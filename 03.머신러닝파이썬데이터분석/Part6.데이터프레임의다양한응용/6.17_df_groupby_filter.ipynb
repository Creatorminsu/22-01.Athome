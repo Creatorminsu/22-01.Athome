{
 "cells": [
  {
   "cell_type": "code",
   "execution_count": 1,
   "metadata": {},
   "outputs": [],
   "source": [
    "import pandas as pd\n",
    "import seaborn as sns"
   ]
  },
  {
   "cell_type": "code",
   "execution_count": 2,
   "metadata": {},
   "outputs": [],
   "source": [
    "# titanic 데이터 셋에서 age, sex 등  5개 열을 선택하여 데이터 프레임 만들기\n",
    "titanic = sns.load_dataset('titanic')\n",
    "df = titanic.loc[:, ['age','sex','class','fare','survived']]"
   ]
  },
  {
   "cell_type": "code",
   "execution_count": 3,
   "metadata": {},
   "outputs": [],
   "source": [
    "# class 열을 기준으로 분할\n",
    "grouped = df.groupby(['class'])"
   ]
  },
  {
   "cell_type": "code",
   "execution_count": 4,
   "metadata": {},
   "outputs": [
    {
     "name": "stdout",
     "output_type": "stream",
     "text": [
      "              age       fare  survived\n",
      "class                                 \n",
      "First   14.802856  78.380373  0.484026\n",
      "Second  14.001077  13.417399  0.500623\n",
      "Third   12.495398  11.778142  0.428949\n",
      "\n",
      "\n",
      "<class 'pandas.core.frame.DataFrame'>\n",
      "\n",
      "\n"
     ]
    }
   ],
   "source": [
    "# 각 그룹에 대한 모든 열의 표준편차를 집계하여 데이터프레임으로 반환\n",
    "std_all = grouped.std()\n",
    "print(std_all)\n",
    "print('\\n')\n",
    "print(type(std_all))\n",
    "print('\\n')"
   ]
  },
  {
   "cell_type": "code",
   "execution_count": 5,
   "metadata": {},
   "outputs": [
    {
     "name": "stdout",
     "output_type": "stream",
     "text": [
      "class\n",
      "First     78.380373\n",
      "Second    13.417399\n",
      "Third     11.778142\n",
      "Name: fare, dtype: float64\n",
      "\n",
      "\n",
      "<class 'pandas.core.series.Series'>\n"
     ]
    }
   ],
   "source": [
    "# 각 그룹에 대한 fare 열의 표준편차를 집계하여 시리즈로 반환\n",
    "std_fare = grouped.fare.std()\n",
    "print(std_fare)\n",
    "print('\\n')\n",
    "print(type(std_fare))"
   ]
  },
  {
   "cell_type": "code",
   "execution_count": 6,
   "metadata": {},
   "outputs": [
    {
     "name": "stdout",
     "output_type": "stream",
     "text": [
      "          age      fare  survived\n",
      "class                            \n",
      "First   79.08  512.3292         1\n",
      "Second  69.33   73.5000         1\n",
      "Third   73.58   69.5500         1\n"
     ]
    }
   ],
   "source": [
    "# 그룹 객체에 agg() 메소드 적용 - 사용자 정의 함수를 인자로 전달\n",
    "def min_max(x):     # 최대값 - 최소값\n",
    "    return x.max() - x.min()\n",
    "\n",
    "# 각 그룹의 최대값과 최소값의 차이를 계산하여 그룹별로 집계\n",
    "agg_minmax = grouped.agg(min_max)\n",
    "print(agg_minmax.head())"
   ]
  },
  {
   "cell_type": "code",
   "execution_count": 7,
   "metadata": {},
   "outputs": [
    {
     "name": "stdout",
     "output_type": "stream",
     "text": [
      "         age           sex       fare           survived    \n",
      "         min   max     min   max  min       max      min max\n",
      "class                                                       \n",
      "First   0.92  80.0  female  male  0.0  512.3292        0   1\n",
      "Second  0.67  70.0  female  male  0.0   73.5000        0   1\n",
      "Third   0.42  74.0  female  male  0.0   69.5500        0   1\n",
      "\n",
      "\n"
     ]
    }
   ],
   "source": [
    "# 여러 함수를 각 열에 동일하게 적용하여 집계\n",
    "agg_all = grouped.agg(['min', 'max'])\n",
    "print(agg_all.head())\n",
    "print('\\n')"
   ]
  },
  {
   "cell_type": "code",
   "execution_count": 8,
   "metadata": {},
   "outputs": [
    {
     "name": "stdout",
     "output_type": "stream",
     "text": [
      "       fare                  age\n",
      "        min       max       mean\n",
      "class                           \n",
      "First   0.0  512.3292  38.233441\n",
      "Second  0.0   73.5000  29.877630\n",
      "Third   0.0   69.5500  25.140620\n"
     ]
    }
   ],
   "source": [
    "# 각 열마다 다른 함수를 적용하여 집계\n",
    "agg_sep = grouped.agg({'fare':['min','max'], 'age':'mean'})\n",
    "print(agg_sep.head())"
   ]
  },
  {
   "cell_type": "code",
   "execution_count": 9,
   "metadata": {},
   "outputs": [
    {
     "name": "stdout",
     "output_type": "stream",
     "text": [
      "class\n",
      "First     38.233441\n",
      "Second    29.877630\n",
      "Third     25.140620\n",
      "Name: age, dtype: float64\n",
      "\n",
      "\n"
     ]
    }
   ],
   "source": [
    "# 그룹별 age 열의 평균 집계 연산\n",
    "age_mean = grouped.age.mean()\n",
    "print(age_mean)\n",
    "print('\\n')"
   ]
  },
  {
   "cell_type": "code",
   "execution_count": 10,
   "metadata": {},
   "outputs": [
    {
     "name": "stdout",
     "output_type": "stream",
     "text": [
      "class\n",
      "First     14.802856\n",
      "Second    14.001077\n",
      "Third     12.495398\n",
      "Name: age, dtype: float64\n",
      "\n",
      "\n"
     ]
    }
   ],
   "source": [
    "# 그룹별 age 열의 표준편차 집계 연산\n",
    "age_std = grouped.age.std()\n",
    "print(age_std)\n",
    "print('\\n')"
   ]
  },
  {
   "cell_type": "code",
   "execution_count": 11,
   "metadata": {},
   "outputs": [
    {
     "name": "stdout",
     "output_type": "stream",
     "text": [
      "* origin : First\n",
      "1   -0.015770\n",
      "3   -0.218434\n",
      "6    1.065103\n",
      "Name: age, dtype: float64\n",
      "\n",
      "\n",
      "* origin : Second\n",
      "9    -1.134029\n",
      "15    1.794317\n",
      "17         NaN\n",
      "Name: age, dtype: float64\n",
      "\n",
      "\n",
      "* origin : Third\n",
      "0   -0.251342\n",
      "2    0.068776\n",
      "4    0.789041\n",
      "Name: age, dtype: float64\n",
      "\n",
      "\n"
     ]
    }
   ],
   "source": [
    "# 그룹 객체의 age 열을 iteration으로 z-score를 계산하여 출력\n",
    "for key, group in grouped.age:\n",
    "    group_zscore = (group - age_mean.loc[key]) / age_std.loc[key]\n",
    "    print('* origin :', key)\n",
    "    print(group_zscore.head(3))\n",
    "    print('\\n')"
   ]
  },
  {
   "cell_type": "code",
   "execution_count": 12,
   "metadata": {},
   "outputs": [],
   "source": [
    "# z-score를 계산하는 사용자 함수 정의\n",
    "def z_score(x):\n",
    "    return (x - x.mean()) / x.std()"
   ]
  },
  {
   "cell_type": "code",
   "execution_count": 13,
   "metadata": {},
   "outputs": [
    {
     "name": "stdout",
     "output_type": "stream",
     "text": [
      "1   -0.015770\n",
      "9   -1.134029\n",
      "0   -0.251342\n",
      "Name: age, dtype: float64\n",
      "\n",
      "\n",
      "891\n",
      "\n",
      "\n",
      "0   -0.251342\n",
      "1   -0.015770\n",
      "2    0.068776\n",
      "3   -0.218434\n",
      "4    0.789041\n",
      "5         NaN\n",
      "6    1.065103\n",
      "7   -1.851931\n",
      "8    0.148805\n",
      "9   -1.134029\n",
      "Name: age, dtype: float64\n",
      "\n",
      "\n",
      "<class 'pandas.core.series.Series'>\n"
     ]
    }
   ],
   "source": [
    "# transform() 메소드를 이용하여 age 열의 데이터를 z-score로 변환\n",
    "age_zscore = grouped.age.transform(z_score)\n",
    "print(age_zscore.loc[[1,9,0]])\n",
    "print('\\n')\n",
    "print(len(age_zscore))\n",
    "print('\\n')\n",
    "print(age_zscore.loc[0:9])\n",
    "print('\\n')\n",
    "print(type(age_zscore))"
   ]
  },
  {
   "cell_type": "code",
   "execution_count": 14,
   "metadata": {},
   "outputs": [
    {
     "name": "stdout",
     "output_type": "stream",
     "text": [
      "    age     sex  class     fare  survived\n",
      "0  22.0    male  Third   7.2500         0\n",
      "1  38.0  female  First  71.2833         1\n",
      "2  26.0  female  Third   7.9250         1\n",
      "3  35.0  female  First  53.1000         1\n",
      "4  35.0    male  Third   8.0500         0\n",
      "\n",
      "\n",
      "<class 'pandas.core.frame.DataFrame'>\n"
     ]
    }
   ],
   "source": [
    "# 데이터 개수가 200개 이상인 그룹만을 필터링하여 데이터프레임으로 반환\n",
    "grouped_filter = grouped.filter(lambda x: len(x) >= 200)\n",
    "print(grouped_filter.head())\n",
    "print('\\n')\n",
    "print(type(grouped_filter))"
   ]
  },
  {
   "cell_type": "code",
   "execution_count": 15,
   "metadata": {},
   "outputs": [
    {
     "name": "stdout",
     "output_type": "stream",
     "text": [
      "      age     sex   class    fare  survived\n",
      "884  25.0    male   Third   7.050         0\n",
      "885  39.0  female   Third  29.125         0\n",
      "886  27.0    male  Second  13.000         0\n",
      "888   NaN  female   Third  23.450         0\n",
      "890  32.0    male   Third   7.750         0\n",
      "\n",
      "\n",
      "<class 'pandas.core.frame.DataFrame'>\n"
     ]
    }
   ],
   "source": [
    "# age 열의 평균이 30보다 작은 그룹만을 필터링하여 데이터 프레임으로 반환\n",
    "age_filter = grouped.filter(lambda x: x.age.mean() < 30)\n",
    "print(age_filter.tail())\n",
    "print('\\n')\n",
    "print(type(age_filter))"
   ]
  },
  {
   "cell_type": "code",
   "execution_count": null,
   "metadata": {},
   "outputs": [],
   "source": []
  }
 ],
 "metadata": {
  "interpreter": {
   "hash": "b3ba2566441a7c06988d0923437866b63cedc61552a5af99d1f4fb67d367b25f"
  },
  "kernelspec": {
   "display_name": "Python 3.8.8 64-bit ('base': conda)",
   "language": "python",
   "name": "python3"
  },
  "language_info": {
   "codemirror_mode": {
    "name": "ipython",
    "version": 3
   },
   "file_extension": ".py",
   "mimetype": "text/x-python",
   "name": "python",
   "nbconvert_exporter": "python",
   "pygments_lexer": "ipython3",
   "version": "3.8.8"
  },
  "orig_nbformat": 4
 },
 "nbformat": 4,
 "nbformat_minor": 2
}
