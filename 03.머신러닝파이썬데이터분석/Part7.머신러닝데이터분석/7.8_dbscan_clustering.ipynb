{
 "cells": [
  {
   "cell_type": "code",
   "execution_count": 1,
   "metadata": {},
   "outputs": [],
   "source": [
    "### 기본 라이브러리 불러오기\n",
    "import pandas as pd\n",
    "import folium"
   ]
  },
  {
   "cell_type": "markdown",
   "metadata": {},
   "source": [
    "* Step1. 데이터 준비/기본 설정"
   ]
  },
  {
   "cell_type": "code",
   "execution_count": 6,
   "metadata": {},
   "outputs": [],
   "source": [
    "# 서울 시내 중학교 진학률 데이터셋\n",
    "file_path = './2016_middle_shcool_graduates_report.xlsx'"
   ]
  },
  {
   "cell_type": "code",
   "execution_count": 7,
   "metadata": {},
   "outputs": [],
   "source": [
    "df = pd.read_excel(file_path, header=0, engine='openpyxl')"
   ]
  },
  {
   "cell_type": "code",
   "execution_count": 8,
   "metadata": {},
   "outputs": [],
   "source": [
    "#IPython Console 디스플레이 옵션 설정하기\n",
    "pd.set_option('display.width', None)            # 출력화면의 너비\n",
    "pd.set_option('display.max_rows', 100)          # 출력할 행의 개수 한도\n",
    "pd.set_option('display.max_columns', 10)        # 출력할 열의 개수 한도\n",
    "pd.set_option('display.max_colwidth', 20)       # 출력할 열의 너비\n",
    "pd.set_option('display.unicode.east_asian_width', True)     # 유니코드 사용 너비 조정"
   ]
  },
  {
   "cell_type": "code",
   "execution_count": 9,
   "metadata": {},
   "outputs": [
    {
     "name": "stdout",
     "output_type": "stream",
     "text": [
      "['Unnamed: 0' '지역' '학교명' '코드' '유형' '주야' '남학생수' '여학생수' '일반고' '특성화고' '과학고'\n",
      " '외고_국제고' '예고_체고' '마이스터고' '자사고' '자공고' '기타진학' '취업' '미상' '위도' '경도']\n"
     ]
    }
   ],
   "source": [
    "# 열 이름 배열 출력\n",
    "print(df.columns.values)"
   ]
  },
  {
   "cell_type": "markdown",
   "metadata": {},
   "source": [
    "* Step2. 데이터 탐색"
   ]
  },
  {
   "cell_type": "code",
   "execution_count": 10,
   "metadata": {},
   "outputs": [
    {
     "name": "stdout",
     "output_type": "stream",
     "text": [
      "   Unnamed: 0    지역                               학교명  코드  유형  ...  \\\n",
      "0           0  성북구  서울대학교사범대학부설중학교.....       3  국립  ...   \n",
      "1           1  종로구  서울대학교사범대학부설여자중학교...     3  국립  ...   \n",
      "2           2  강남구           개원중학교                     3  공립  ...   \n",
      "3           3  강남구           개포중학교                     3  공립  ...   \n",
      "4           4  서초구           경원중학교                     3  공립  ...   \n",
      "\n",
      "  기타진학  취업   미상       위도        경도  \n",
      "0    0.004     0  0.000  37.594942  127.038909  \n",
      "1    0.031     0  0.000  37.577473  127.003857  \n",
      "2    0.009     0  0.003  37.491637  127.071744  \n",
      "3    0.019     0  0.000  37.480439  127.062201  \n",
      "4    0.010     0  0.000  37.510750  127.008900  \n",
      "\n",
      "[5 rows x 21 columns]\n",
      "\n",
      "\n"
     ]
    }
   ],
   "source": [
    "# 데이터 살펴보기\n",
    "print(df.head())\n",
    "print('\\n')"
   ]
  },
  {
   "cell_type": "code",
   "execution_count": 11,
   "metadata": {},
   "outputs": [
    {
     "name": "stdout",
     "output_type": "stream",
     "text": [
      "<class 'pandas.core.frame.DataFrame'>\n",
      "RangeIndex: 415 entries, 0 to 414\n",
      "Data columns (total 21 columns):\n",
      " #   Column      Non-Null Count  Dtype  \n",
      "---  ------      --------------  -----  \n",
      " 0   Unnamed: 0  415 non-null    int64  \n",
      " 1   지역          415 non-null    object \n",
      " 2   학교명         415 non-null    object \n",
      " 3   코드          415 non-null    int64  \n",
      " 4   유형          415 non-null    object \n",
      " 5   주야          415 non-null    object \n",
      " 6   남학생수        415 non-null    int64  \n",
      " 7   여학생수        415 non-null    int64  \n",
      " 8   일반고         415 non-null    float64\n",
      " 9   특성화고        415 non-null    float64\n",
      " 10  과학고         415 non-null    float64\n",
      " 11  외고_국제고      415 non-null    float64\n",
      " 12  예고_체고       415 non-null    float64\n",
      " 13  마이스터고       415 non-null    float64\n",
      " 14  자사고         415 non-null    float64\n",
      " 15  자공고         415 non-null    float64\n",
      " 16  기타진학        415 non-null    float64\n",
      " 17  취업          415 non-null    int64  \n",
      " 18  미상          415 non-null    float64\n",
      " 19  위도          415 non-null    float64\n",
      " 20  경도          415 non-null    float64\n",
      "dtypes: float64(12), int64(5), object(4)\n",
      "memory usage: 68.2+ KB\n",
      "None\n",
      "\n",
      "\n"
     ]
    }
   ],
   "source": [
    "# 데이터 자료형 확인\n",
    "print(df.info())\n",
    "print('\\n')"
   ]
  },
  {
   "cell_type": "code",
   "execution_count": 12,
   "metadata": {},
   "outputs": [
    {
     "name": "stdout",
     "output_type": "stream",
     "text": [
      "       Unnamed: 0        코드    남학생수    여학생수      일반고  ...  \\\n",
      "count  415.000000  415.000000  415.000000  415.000000  415.000000  ...   \n",
      "mean   207.000000    3.197590  126.532530  116.173494    0.623080  ...   \n",
      "std    119.944432    0.804272   79.217906   76.833082    0.211093  ...   \n",
      "min      0.000000    3.000000    0.000000    0.000000    0.000000  ...   \n",
      "25%    103.500000    3.000000   80.000000   71.500000    0.566500  ...   \n",
      "50%    207.000000    3.000000  129.000000  118.000000    0.681000  ...   \n",
      "75%    310.500000    3.000000  177.500000  161.500000    0.758000  ...   \n",
      "max    414.000000    9.000000  337.000000  422.000000    0.908000  ...   \n",
      "\n",
      "         기타진학   취업        미상        위도        경도  \n",
      "count  415.000000  415.0  415.000000  415.000000  415.000000  \n",
      "mean     0.069571    0.0    0.001670   37.491969  127.032792  \n",
      "std      0.235630    0.0    0.003697    0.348926    0.265245  \n",
      "min      0.000000    0.0    0.000000   34.979940  126.639561  \n",
      "25%      0.000000    0.0    0.000000   37.501934  126.921758  \n",
      "50%      0.007000    0.0    0.000000   37.547702  127.013579  \n",
      "75%      0.015000    0.0    0.003000   37.590670  127.071265  \n",
      "max      1.000000    0.0    0.036000   37.694777  129.106974  \n",
      "\n",
      "[8 rows x 17 columns]\n"
     ]
    }
   ],
   "source": [
    "# 데이터 통계 요약 정보 확인\n",
    "print(df.describe())"
   ]
  },
  {
   "cell_type": "code",
   "execution_count": 13,
   "metadata": {},
   "outputs": [],
   "source": [
    "# 지도에 위치 표시\n",
    "mschool_map = folium.Map(location=[37.55, 126.98], tiles='Stamen Terrain', zoom_start=12)"
   ]
  },
  {
   "cell_type": "code",
   "execution_count": 15,
   "metadata": {},
   "outputs": [],
   "source": [
    "# 중학교 위치 정보를 CircleMarker로 표시\n",
    "for name, lat, lng in zip(df.학교명, df.위도, df.경도):\n",
    "    folium.CircleMarker([lat,lng], radius=5, color='brown',fill=True, fill_color='coral',fill_opacity=0.7, popup=name).add_to(mschool_map)"
   ]
  },
  {
   "cell_type": "code",
   "execution_count": 16,
   "metadata": {},
   "outputs": [],
   "source": [
    "# 지도를 html 파일로 저장하기\n",
    "mschool_map.save('./seoul_mschool_location.html')"
   ]
  },
  {
   "cell_type": "markdown",
   "metadata": {},
   "source": [
    "*Step 3. 데이터 전처리"
   ]
  },
  {
   "cell_type": "code",
   "execution_count": 17,
   "metadata": {},
   "outputs": [],
   "source": [
    "# 원핫 인코딩(더미변수)\n",
    "from sklearn import preprocessing\n",
    "\n",
    "label_encoder = preprocessing.LabelEncoder()              # label encoder 생성\n",
    "onehot_encoder = preprocessing.OneHotEncoder()            # one hot encoder 생성"
   ]
  },
  {
   "cell_type": "code",
   "execution_count": 18,
   "metadata": {},
   "outputs": [],
   "source": [
    "onehot_location = label_encoder.fit_transform(df['지역'])\n",
    "onehot_code = label_encoder.fit_transform(df['코드'])\n",
    "onehot_type = label_encoder.fit_transform(df['유형'])\n",
    "onehot_day = label_encoder.fit_transform(df['주야'])"
   ]
  },
  {
   "cell_type": "code",
   "execution_count": 19,
   "metadata": {},
   "outputs": [
    {
     "name": "stdout",
     "output_type": "stream",
     "text": [
      "   Unnamed: 0    지역                               학교명  코드  유형  ...  \\\n",
      "0           0  성북구  서울대학교사범대학부설중학교.....       3  국립  ...   \n",
      "1           1  종로구  서울대학교사범대학부설여자중학교...     3  국립  ...   \n",
      "2           2  강남구           개원중학교                     3  공립  ...   \n",
      "3           3  강남구           개포중학교                     3  공립  ...   \n",
      "4           4  서초구           경원중학교                     3  공립  ...   \n",
      "\n",
      "         경도  location  code  type  day  \n",
      "0  127.038909        16     0     1    0  \n",
      "1  127.003857        22     0     1    0  \n",
      "2  127.071744         0     0     0    0  \n",
      "3  127.062201         0     0     0    0  \n",
      "4  127.008900        14     0     0    0  \n",
      "\n",
      "[5 rows x 25 columns]\n"
     ]
    }
   ],
   "source": [
    "df['location'] = onehot_location\n",
    "df['code'] = onehot_code\n",
    "df['type'] = onehot_type\n",
    "df['day'] = onehot_day\n",
    "\n",
    "print(df.head())"
   ]
  },
  {
   "cell_type": "markdown",
   "metadata": {},
   "source": [
    "* Step4. DBSCAN 군집 모형 - sklearn 사용"
   ]
  },
  {
   "cell_type": "code",
   "execution_count": 20,
   "metadata": {},
   "outputs": [],
   "source": [
    "# sklearn 라이브러리에서 cluster 군집모형 가져오기\n",
    "from sklearn import cluster"
   ]
  },
  {
   "cell_type": "code",
   "execution_count": 21,
   "metadata": {},
   "outputs": [
    {
     "name": "stdout",
     "output_type": "stream",
     "text": [
      "   특성화고  과학고  마이스터고\n",
      "0     0.148   0.018       0.011\n",
      "1     0.199   0.000       0.000\n",
      "2     0.047   0.009       0.006\n",
      "3     0.097   0.013       0.019\n",
      "4     0.017   0.007       0.000\n",
      "\n",
      "\n"
     ]
    }
   ],
   "source": [
    "# 분석에 사용할 속성 선택(과학고, 외고국제고, 자사고 진학률)\n",
    "columns_list = [9,10,13]\n",
    "X = df.iloc[:, columns_list]\n",
    "print(X[:5])\n",
    "print('\\n')"
   ]
  },
  {
   "cell_type": "code",
   "execution_count": 22,
   "metadata": {},
   "outputs": [],
   "source": [
    "# 설명 변수 데이터 정규화\n",
    "X = preprocessing.StandardScaler().fit(X).transform(X)"
   ]
  },
  {
   "cell_type": "code",
   "execution_count": 23,
   "metadata": {},
   "outputs": [],
   "source": [
    "# DBSCAN 모형 객체 생성\n",
    "dbm = cluster.DBSCAN(eps=0.2, min_samples = 5)"
   ]
  },
  {
   "cell_type": "code",
   "execution_count": 24,
   "metadata": {},
   "outputs": [
    {
     "data": {
      "text/plain": [
       "DBSCAN(eps=0.2)"
      ]
     },
     "execution_count": 24,
     "metadata": {},
     "output_type": "execute_result"
    }
   ],
   "source": [
    "# 모형 학습\n",
    "dbm.fit(X)"
   ]
  },
  {
   "cell_type": "code",
   "execution_count": 25,
   "metadata": {},
   "outputs": [
    {
     "name": "stdout",
     "output_type": "stream",
     "text": [
      "[-1  0 -1 -1  1  5 -1 -1  2 -1 -1 -1  2  0 -1 -1 -1 -1 -1  2 -1 -1 -1  0\n",
      "  1  2 -1  1  0  0 -1 -1 -1 -1 -1  0 -1 -1 -1 -1 -1 -1 -1  0 -1 -1 -1  3\n",
      " -1 -1 -1  3 -1  1 -1 -1  4 -1 -1  4 -1 -1  4  0 -1  5  0  6  1 -1  0  1\n",
      " -1  0  8 -1 -1 -1  4 -1  3 -1 -1  3  4 -1 -1 -1  3 -1  0  2 -1  0 -1 -1\n",
      "  5  0  0 -1 -1 -1 -1 -1 -1 -1 -1  0 -1 -1 -1 -1 -1 -1  1 -1 -1 -1  0 -1\n",
      " -1 -1  5  8  0 -1 -1 -1 -1 -1  7  3  0 -1  5  0  4 -1  5 -1 -1 -1 -1 -1\n",
      " -1  6 -1 -1 -1  8  4 -1 -1  6 -1 -1 -1 -1 -1  0  6 -1 -1 -1 -1 -1 -1  6\n",
      " -1 -1  7 -1 -1  6 -1  0  0 -1  3 -1  6  8 -1  6 -1 -1 -1 -1 -1 -1  5  0\n",
      "  0 -1 -1 -1 -1  0  0 -1  0 -1 -1  6  0 -1 -1 -1 -1 -1  4 -1 -1  3 -1 -1\n",
      "  0 -1 -1  9 -1 -1 -1 -1 -1 -1 -1 -1 -1 -1  0 -1 -1 -1  0 -1 -1 -1  9  0\n",
      "  9 -1 -1 -1 -1  5  0 -1 -1 -1  0  0 -1  0 -1 -1 -1 -1 -1  0  4 -1 -1  0\n",
      " -1 -1  0  0 -1 -1  6  3 -1  6 -1 -1 -1  0 -1  0 10 -1  0  0  0 -1  0 -1\n",
      " -1 -1 -1  9 -1 -1 10  0 10  0  7  7  3  6 -1 -1 -1 -1  3  4 -1  0 -1  8\n",
      "  4  8  6  0  7 -1 -1 -1 -1  0 -1 -1 -1 -1 -1  0 -1  0  0 -1  0  5  0  0\n",
      " -1 10  0  0  0  3  0 -1  0 10  2 -1  0 -1 -1  7 -1 -1 -1  0  0 -1 -1 -1\n",
      " -1 -1 -1 -1 -1 -1 -1 -1 -1 -1 -1 -1  9  0 -1 -1 -1  0  0 -1  7 -1 -1  0\n",
      " 11 11 11 11 11 11 11 11 11 11 11 11 11 11 11 11 11 11 11 11 11 11 11 11\n",
      " 11 11 11 11 11 11 -1]\n",
      "\n",
      "\n"
     ]
    }
   ],
   "source": [
    "# 예측(군집)\n",
    "cluster_label = dbm.labels_\n",
    "print(cluster_label)\n",
    "print('\\n')"
   ]
  },
  {
   "cell_type": "code",
   "execution_count": 26,
   "metadata": {},
   "outputs": [
    {
     "name": "stdout",
     "output_type": "stream",
     "text": [
      "   Unnamed: 0    지역                               학교명  코드  유형  ...  \\\n",
      "0           0  성북구  서울대학교사범대학부설중학교.....       3  국립  ...   \n",
      "1           1  종로구  서울대학교사범대학부설여자중학교...     3  국립  ...   \n",
      "2           2  강남구           개원중학교                     3  공립  ...   \n",
      "3           3  강남구           개포중학교                     3  공립  ...   \n",
      "4           4  서초구           경원중학교                     3  공립  ...   \n",
      "\n",
      "  location  code  type  day  Cluster  \n",
      "0       16     0     1    0       -1  \n",
      "1       22     0     1    0        0  \n",
      "2        0     0     0    0       -1  \n",
      "3        0     0     0    0       -1  \n",
      "4       14     0     0    0        1  \n",
      "\n",
      "[5 rows x 26 columns]\n"
     ]
    }
   ],
   "source": [
    "# 예측 결과를 데이터프레임에 추가\n",
    "df['Cluster'] = cluster_label\n",
    "print(df.head())"
   ]
  },
  {
   "cell_type": "code",
   "execution_count": 27,
   "metadata": {},
   "outputs": [
    {
     "name": "stdout",
     "output_type": "stream",
     "text": [
      "* key : -1\n",
      "* number : 234\n",
      "   Unnamed: 0    지역  코드  특성화고  과학고  마이스터고\n",
      "0           0  성북구     3     0.148   0.018       0.011\n",
      "2           2  강남구     3     0.047   0.009       0.006\n",
      "3           3  강남구     3     0.097   0.013       0.019\n",
      "6           6  강남구     3     0.015   0.015       0.000\n",
      "7           7  강남구     3     0.000   0.032       0.000\n",
      "\n",
      "\n",
      "* key : 0\n",
      "* number : 70\n",
      "    Unnamed: 0    지역  코드  특성화고  과학고  마이스터고\n",
      "1            1  종로구     3     0.199     0.0         0.0\n",
      "13          13  서초구     3     0.032     0.0         0.0\n",
      "23          23  강남구     3     0.025     0.0         0.0\n",
      "28          28  서초구     3     0.040     0.0         0.0\n",
      "29          29  강남구     3     0.051     0.0         0.0\n",
      "\n",
      "\n",
      "* key : 1\n",
      "* number : 7\n",
      "    Unnamed: 0    지역  코드  특성화고  과학고  마이스터고\n",
      "4            4  서초구     3     0.017   0.007         0.0\n",
      "24          24  강남구     3     0.026   0.007         0.0\n",
      "27          27  강남구     3     0.006   0.006         0.0\n",
      "53          53  강동구     3     0.020   0.007         0.0\n",
      "68          68  송파구     3     0.011   0.007         0.0\n",
      "\n",
      "\n",
      "* key : 2\n",
      "* number : 6\n",
      "    Unnamed: 0    지역  코드  특성화고  과학고  마이스터고\n",
      "8            8  강남구     3     0.018   0.013         0.0\n",
      "12          12  강남구     3     0.000   0.013         0.0\n",
      "19          19  서초구     3     0.005   0.013         0.0\n",
      "25          25  서초구     3     0.012   0.012         0.0\n",
      "91          91  양천구     3     0.028   0.011         0.0\n",
      "\n",
      "\n",
      "* key : 3\n",
      "* number : 12\n",
      "    Unnamed: 0    지역  코드  특성화고  과학고  마이스터고\n",
      "47          47  강동구     3     0.171     0.0       0.005\n",
      "51          51  송파구     3     0.153     0.0       0.004\n",
      "80          80  양천구     3     0.189     0.0       0.003\n",
      "83          83  강서구     3     0.194     0.0       0.004\n",
      "88          88  강서구     3     0.198     0.0       0.006\n",
      "\n",
      "\n",
      "* key : 4\n",
      "* number : 11\n",
      "    Unnamed: 0    지역  코드  특성화고  과학고  마이스터고\n",
      "56          56  강동구     3     0.094     0.0       0.007\n",
      "59          59  강동구     3     0.093     0.0       0.004\n",
      "62          62  강동구     3     0.087     0.0       0.006\n",
      "78          78  강동구     3     0.112     0.0       0.004\n",
      "84          84  양천구     3     0.094     0.0       0.003\n",
      "\n",
      "\n",
      "* key : 5\n",
      "* number : 9\n",
      "     Unnamed: 0    지역  코드  특성화고  과학고  마이스터고\n",
      "5             5  강남구     3     0.066   0.007         0.0\n",
      "65           65  송파구     3     0.081   0.006         0.0\n",
      "96           96  양천구     3     0.083   0.006         0.0\n",
      "122         122  구로구     3     0.079   0.004         0.0\n",
      "134         134  구로구     3     0.063   0.005         0.0\n",
      "\n",
      "\n",
      "* key : 6\n",
      "* number : 13\n",
      "     Unnamed: 0      지역  코드  특성화고  과학고  마이스터고\n",
      "67           67    송파구     3     0.226     0.0       0.004\n",
      "145         145    구로구     3     0.249     0.0       0.004\n",
      "153         153  동대문구     3     0.222     0.0       0.004\n",
      "160         160  동대문구     3     0.225     0.0       0.006\n",
      "167         167  동대문구     3     0.224     0.0       0.004\n",
      "\n",
      "\n",
      "* key : 7\n",
      "* number : 7\n",
      "     Unnamed: 0      지역  코드  특성화고  과학고  마이스터고\n",
      "130         130    금천구     3     0.329     0.0         0.0\n",
      "170         170  동대문구     3     0.327     0.0         0.0\n",
      "298         298    성동구     3     0.323     0.0         0.0\n",
      "299         299    광진구     3     0.309     0.0         0.0\n",
      "316         316    강북구     3     0.305     0.0         0.0\n",
      "\n",
      "\n",
      "* key : 8\n",
      "* number : 6\n",
      "     Unnamed: 0      지역  코드  특성화고  과학고  마이스터고\n",
      "74           74    강동구     3     0.215     0.0       0.012\n",
      "123         123    금천구     3     0.242     0.0       0.013\n",
      "149         149  동대문구     3     0.213     0.0       0.013\n",
      "181         181    관악구     3     0.222     0.0       0.013\n",
      "311         311    성북구     3     0.222     0.0       0.014\n",
      "\n",
      "\n",
      "* key : 9\n",
      "* number : 5\n",
      "     Unnamed: 0    지역  코드  특성화고  과학고  마이스터고\n",
      "219         219  노원구     3     0.110   0.003       0.003\n",
      "238         238  도봉구     3     0.115   0.003       0.003\n",
      "240         240  도봉구     3     0.098   0.003       0.003\n",
      "291         291  성동구     3     0.089   0.003       0.003\n",
      "372         372  송파구     3     0.098   0.004       0.004\n",
      "\n",
      "\n",
      "* key : 10\n",
      "* number : 5\n",
      "     Unnamed: 0    지역  코드  특성화고  과학고  마이스터고\n",
      "280         280  은평구     3     0.185   0.005       0.005\n",
      "294         294  성동구     3     0.179   0.005       0.005\n",
      "296         296  성동구     3     0.180   0.005       0.005\n",
      "337         337  용산구     3     0.168   0.005       0.005\n",
      "345         345  용산구     3     0.201   0.005       0.005\n",
      "\n",
      "\n",
      "* key : 11\n",
      "* number : 30\n",
      "     Unnamed: 0    지역  코드  특성화고  과학고  마이스터고\n",
      "384         384  종로구     5       0.0     0.0         0.0\n",
      "385         385  마포구     5       0.0     0.0         0.0\n",
      "386         386  종로구     5       0.0     0.0         0.0\n",
      "387         387  강서구     5       0.0     0.0         0.0\n",
      "388         388  서초구     5       0.0     0.0         0.0\n",
      "\n",
      "\n"
     ]
    }
   ],
   "source": [
    "# 클러스터 값으로 그룹화하고 그룹별로 내용 출력(첫 5행만 출력)\n",
    "grouped_cols = [0, 1, 3] + columns_list\n",
    "grouped = df.groupby('Cluster')\n",
    "for key, group in grouped:\n",
    "    print('* key :', key)\n",
    "    print('* number :', len(group))\n",
    "    print(group.iloc[:, grouped_cols].head())\n",
    "    print('\\n')"
   ]
  },
  {
   "cell_type": "code",
   "execution_count": 28,
   "metadata": {},
   "outputs": [],
   "source": [
    "# 그래프로 표현 - 시각화\n",
    "colors = {-1:'gray',0:'coral', 1:'blue',2:'green', 3:'red', 4:'purple', 5:'orange', 6:'brown', 7:'brick',8:'yellow',9:'magenta',10:'cyan',11:'tan'}"
   ]
  },
  {
   "cell_type": "code",
   "execution_count": 34,
   "metadata": {},
   "outputs": [],
   "source": [
    "cluster_map = folium.Map(location=[37.55,126.98], tiles='Stamen Terrain', zoom_start=12)"
   ]
  },
  {
   "cell_type": "code",
   "execution_count": 35,
   "metadata": {},
   "outputs": [],
   "source": [
    "for name, lat, lng, clus in zip(df.학교명, df.위도, df.경도, df.Cluster):\n",
    "    folium.CircleMarker([lat,lng], radius=5, color=colors[clus],fill=True, fill_color=colors[clus], fill_opacity=0.7, popup=name).add_to(cluster_map)"
   ]
  },
  {
   "cell_type": "code",
   "execution_count": 36,
   "metadata": {},
   "outputs": [],
   "source": [
    "# 지도를 html파일로 저장하기\n",
    "cluster_map.save('./seoul_mschool_cluster.html')"
   ]
  },
  {
   "cell_type": "code",
   "execution_count": 37,
   "metadata": {},
   "outputs": [
    {
     "name": "stdout",
     "output_type": "stream",
     "text": [
      "   특성화고  과학고  마이스터고  code\n",
      "0     0.148   0.018       0.011     0\n",
      "1     0.199   0.000       0.000     0\n",
      "2     0.047   0.009       0.006     0\n",
      "3     0.097   0.013       0.019     0\n",
      "4     0.017   0.007       0.000     0\n",
      "\n",
      "\n"
     ]
    }
   ],
   "source": [
    "# X2 데이터 셋에 대하여 위의 과정을 반복(과학고, 외고국제고, 자사고 진학률 + 유형)\n",
    "columns_list2 = [9, 10, 13, 22]\n",
    "X2 = df.iloc[:, columns_list2]\n",
    "print(X2[:5])\n",
    "print('\\n')\n",
    "\n",
    "X2 = preprocessing.StandardScaler().fit(X2).transform(X2)\n",
    "dbm2 = cluster.DBSCAN(eps=0.2, min_samples=5)\n",
    "dbm2.fit(X2)\n",
    "df['Cluster2'] = dbm2.labels_"
   ]
  },
  {
   "cell_type": "code",
   "execution_count": 38,
   "metadata": {},
   "outputs": [
    {
     "name": "stdout",
     "output_type": "stream",
     "text": [
      "* key : -1\n",
      "* number : 238\n",
      "   Unnamed: 0    지역  코드  특성화고  과학고  마이스터고  code\n",
      "0           0  성북구     3     0.148   0.018       0.011     0\n",
      "2           2  강남구     3     0.047   0.009       0.006     0\n",
      "3           3  강남구     3     0.097   0.013       0.019     0\n",
      "6           6  강남구     3     0.015   0.015       0.000     0\n",
      "7           7  강남구     3     0.000   0.032       0.000     0\n",
      "\n",
      "\n",
      "* key : 0\n",
      "* number : 70\n",
      "    Unnamed: 0    지역  코드  특성화고  과학고  마이스터고  code\n",
      "1            1  종로구     3     0.199     0.0         0.0     0\n",
      "13          13  서초구     3     0.032     0.0         0.0     0\n",
      "23          23  강남구     3     0.025     0.0         0.0     0\n",
      "28          28  서초구     3     0.040     0.0         0.0     0\n",
      "29          29  강남구     3     0.051     0.0         0.0     0\n",
      "\n",
      "\n",
      "* key : 1\n",
      "* number : 7\n",
      "    Unnamed: 0    지역  코드  특성화고  과학고  마이스터고  code\n",
      "4            4  서초구     3     0.017   0.007         0.0     0\n",
      "24          24  강남구     3     0.026   0.007         0.0     0\n",
      "27          27  강남구     3     0.006   0.006         0.0     0\n",
      "53          53  강동구     3     0.020   0.007         0.0     0\n",
      "68          68  송파구     3     0.011   0.007         0.0     0\n",
      "\n",
      "\n",
      "* key : 2\n",
      "* number : 6\n",
      "    Unnamed: 0    지역  코드  특성화고  과학고  마이스터고  code\n",
      "8            8  강남구     3     0.018   0.013         0.0     0\n",
      "12          12  강남구     3     0.000   0.013         0.0     0\n",
      "19          19  서초구     3     0.005   0.013         0.0     0\n",
      "25          25  서초구     3     0.012   0.012         0.0     0\n",
      "91          91  양천구     3     0.028   0.011         0.0     0\n",
      "\n",
      "\n",
      "* key : 3\n",
      "* number : 12\n",
      "    Unnamed: 0    지역  코드  특성화고  과학고  마이스터고  code\n",
      "47          47  강동구     3     0.171     0.0       0.005     0\n",
      "51          51  송파구     3     0.153     0.0       0.004     0\n",
      "80          80  양천구     3     0.189     0.0       0.003     0\n",
      "83          83  강서구     3     0.194     0.0       0.004     0\n",
      "88          88  강서구     3     0.198     0.0       0.006     0\n",
      "\n",
      "\n",
      "* key : 4\n",
      "* number : 11\n",
      "    Unnamed: 0    지역  코드  특성화고  과학고  마이스터고  code\n",
      "56          56  강동구     3     0.094     0.0       0.007     0\n",
      "59          59  강동구     3     0.093     0.0       0.004     0\n",
      "62          62  강동구     3     0.087     0.0       0.006     0\n",
      "78          78  강동구     3     0.112     0.0       0.004     0\n",
      "84          84  양천구     3     0.094     0.0       0.003     0\n",
      "\n",
      "\n",
      "* key : 5\n",
      "* number : 9\n",
      "     Unnamed: 0    지역  코드  특성화고  과학고  마이스터고  code\n",
      "5             5  강남구     3     0.066   0.007         0.0     0\n",
      "65           65  송파구     3     0.081   0.006         0.0     0\n",
      "96           96  양천구     3     0.083   0.006         0.0     0\n",
      "122         122  구로구     3     0.079   0.004         0.0     0\n",
      "134         134  구로구     3     0.063   0.005         0.0     0\n",
      "\n",
      "\n",
      "* key : 6\n",
      "* number : 13\n",
      "     Unnamed: 0      지역  코드  특성화고  과학고  마이스터고  code\n",
      "67           67    송파구     3     0.226     0.0       0.004     0\n",
      "145         145    구로구     3     0.249     0.0       0.004     0\n",
      "153         153  동대문구     3     0.222     0.0       0.004     0\n",
      "160         160  동대문구     3     0.225     0.0       0.006     0\n",
      "167         167  동대문구     3     0.224     0.0       0.004     0\n",
      "\n",
      "\n",
      "* key : 7\n",
      "* number : 7\n",
      "     Unnamed: 0      지역  코드  특성화고  과학고  마이스터고  code\n",
      "130         130    금천구     3     0.329     0.0         0.0     0\n",
      "170         170  동대문구     3     0.327     0.0         0.0     0\n",
      "298         298    성동구     3     0.323     0.0         0.0     0\n",
      "299         299    광진구     3     0.309     0.0         0.0     0\n",
      "316         316    강북구     3     0.305     0.0         0.0     0\n",
      "\n",
      "\n",
      "* key : 8\n",
      "* number : 6\n",
      "     Unnamed: 0      지역  코드  특성화고  과학고  마이스터고  code\n",
      "74           74    강동구     3     0.215     0.0       0.012     0\n",
      "123         123    금천구     3     0.242     0.0       0.013     0\n",
      "149         149  동대문구     3     0.213     0.0       0.013     0\n",
      "181         181    관악구     3     0.222     0.0       0.013     0\n",
      "311         311    성북구     3     0.222     0.0       0.014     0\n",
      "\n",
      "\n",
      "* key : 9\n",
      "* number : 5\n",
      "     Unnamed: 0    지역  코드  특성화고  과학고  마이스터고  code\n",
      "219         219  노원구     3     0.110   0.003       0.003     0\n",
      "238         238  도봉구     3     0.115   0.003       0.003     0\n",
      "240         240  도봉구     3     0.098   0.003       0.003     0\n",
      "291         291  성동구     3     0.089   0.003       0.003     0\n",
      "372         372  송파구     3     0.098   0.004       0.004     0\n",
      "\n",
      "\n",
      "* key : 10\n",
      "* number : 5\n",
      "     Unnamed: 0    지역  코드  특성화고  과학고  마이스터고  code\n",
      "280         280  은평구     3     0.185   0.005       0.005     0\n",
      "294         294  성동구     3     0.179   0.005       0.005     0\n",
      "296         296  성동구     3     0.180   0.005       0.005     0\n",
      "337         337  용산구     3     0.168   0.005       0.005     0\n",
      "345         345  용산구     3     0.201   0.005       0.005     0\n",
      "\n",
      "\n",
      "* key : 11\n",
      "* number : 26\n",
      "     Unnamed: 0    지역  코드  특성화고  과학고  마이스터고  code\n",
      "384         384  종로구     5       0.0     0.0         0.0     1\n",
      "385         385  마포구     5       0.0     0.0         0.0     1\n",
      "386         386  종로구     5       0.0     0.0         0.0     1\n",
      "387         387  강서구     5       0.0     0.0         0.0     1\n",
      "388         388  서초구     5       0.0     0.0         0.0     1\n",
      "\n",
      "\n"
     ]
    }
   ],
   "source": [
    "grouped2_cols = [0, 1, 3] + columns_list2\n",
    "grouped2 = df.groupby('Cluster2')\n",
    "for key, group in grouped2:\n",
    "    print('* key :', key)\n",
    "    print('* number :', len(group))\n",
    "    print(group.iloc[:, grouped2_cols].head())\n",
    "    print('\\n')\n",
    "    "
   ]
  },
  {
   "cell_type": "code",
   "execution_count": 39,
   "metadata": {},
   "outputs": [],
   "source": [
    "cluster2_map = folium.Map(location=[37.55,126.98], tiles='Stamen Terrain', zoom_start=12)"
   ]
  },
  {
   "cell_type": "code",
   "execution_count": 40,
   "metadata": {},
   "outputs": [],
   "source": [
    "for name, lat, lng, clus in zip(df.학교명, df.위도, df.경도, df.Cluster2):\n",
    "    folium.CircleMarker([lat,lng], radius=5, color=colors[clus],fill=True, fill_color=colors[clus], fill_opacity=0.7, popup=name).add_to(cluster2_map)"
   ]
  },
  {
   "cell_type": "code",
   "execution_count": 41,
   "metadata": {},
   "outputs": [],
   "source": [
    "# 지도를 html 파일로 저장하기\n",
    "cluster2_map.save('./seoul_mschool_cluster2.html')"
   ]
  },
  {
   "cell_type": "code",
   "execution_count": 42,
   "metadata": {},
   "outputs": [
    {
     "name": "stdout",
     "output_type": "stream",
     "text": [
      "   특성화고  과학고\n",
      "0     0.148   0.018\n",
      "1     0.199   0.000\n",
      "2     0.047   0.009\n",
      "3     0.097   0.013\n",
      "4     0.017   0.007\n",
      "\n",
      "\n"
     ]
    }
   ],
   "source": [
    "# X3 데이터셋에 대하여 위의 과정을 반복(과학고, 외고_국제고)\n",
    "columns_list3 = [9,10]\n",
    "X3 = df.iloc[:, columns_list3]\n",
    "print(X3[:5])\n",
    "print('\\n')\n",
    "\n"
   ]
  },
  {
   "cell_type": "code",
   "execution_count": 43,
   "metadata": {},
   "outputs": [],
   "source": [
    "X3 = preprocessing.StandardScaler().fit(X).transform(X)\n",
    "dbm3 = cluster.DBSCAN(eps=0.2, min_samples = 5)\n",
    "dbm3.fit(X)\n",
    "df['Cluster3'] = dbm3.labels_"
   ]
  },
  {
   "cell_type": "code",
   "execution_count": 44,
   "metadata": {},
   "outputs": [
    {
     "name": "stdout",
     "output_type": "stream",
     "text": [
      "* key : -1\n",
      "* number : 234\n",
      "   Unnamed: 0    지역  코드  특성화고  과학고\n",
      "0           0  성북구     3     0.148   0.018\n",
      "2           2  강남구     3     0.047   0.009\n",
      "3           3  강남구     3     0.097   0.013\n",
      "6           6  강남구     3     0.015   0.015\n",
      "7           7  강남구     3     0.000   0.032\n",
      "\n",
      "\n",
      "* key : 0\n",
      "* number : 70\n",
      "    Unnamed: 0    지역  코드  특성화고  과학고\n",
      "1            1  종로구     3     0.199     0.0\n",
      "13          13  서초구     3     0.032     0.0\n",
      "23          23  강남구     3     0.025     0.0\n",
      "28          28  서초구     3     0.040     0.0\n",
      "29          29  강남구     3     0.051     0.0\n",
      "\n",
      "\n",
      "* key : 1\n",
      "* number : 7\n",
      "    Unnamed: 0    지역  코드  특성화고  과학고\n",
      "4            4  서초구     3     0.017   0.007\n",
      "24          24  강남구     3     0.026   0.007\n",
      "27          27  강남구     3     0.006   0.006\n",
      "53          53  강동구     3     0.020   0.007\n",
      "68          68  송파구     3     0.011   0.007\n",
      "\n",
      "\n",
      "* key : 2\n",
      "* number : 6\n",
      "    Unnamed: 0    지역  코드  특성화고  과학고\n",
      "8            8  강남구     3     0.018   0.013\n",
      "12          12  강남구     3     0.000   0.013\n",
      "19          19  서초구     3     0.005   0.013\n",
      "25          25  서초구     3     0.012   0.012\n",
      "91          91  양천구     3     0.028   0.011\n",
      "\n",
      "\n",
      "* key : 3\n",
      "* number : 12\n",
      "    Unnamed: 0    지역  코드  특성화고  과학고\n",
      "47          47  강동구     3     0.171     0.0\n",
      "51          51  송파구     3     0.153     0.0\n",
      "80          80  양천구     3     0.189     0.0\n",
      "83          83  강서구     3     0.194     0.0\n",
      "88          88  강서구     3     0.198     0.0\n",
      "\n",
      "\n",
      "* key : 4\n",
      "* number : 11\n",
      "    Unnamed: 0    지역  코드  특성화고  과학고\n",
      "56          56  강동구     3     0.094     0.0\n",
      "59          59  강동구     3     0.093     0.0\n",
      "62          62  강동구     3     0.087     0.0\n",
      "78          78  강동구     3     0.112     0.0\n",
      "84          84  양천구     3     0.094     0.0\n",
      "\n",
      "\n",
      "* key : 5\n",
      "* number : 9\n",
      "     Unnamed: 0    지역  코드  특성화고  과학고\n",
      "5             5  강남구     3     0.066   0.007\n",
      "65           65  송파구     3     0.081   0.006\n",
      "96           96  양천구     3     0.083   0.006\n",
      "122         122  구로구     3     0.079   0.004\n",
      "134         134  구로구     3     0.063   0.005\n",
      "\n",
      "\n",
      "* key : 6\n",
      "* number : 13\n",
      "     Unnamed: 0      지역  코드  특성화고  과학고\n",
      "67           67    송파구     3     0.226     0.0\n",
      "145         145    구로구     3     0.249     0.0\n",
      "153         153  동대문구     3     0.222     0.0\n",
      "160         160  동대문구     3     0.225     0.0\n",
      "167         167  동대문구     3     0.224     0.0\n",
      "\n",
      "\n",
      "* key : 7\n",
      "* number : 7\n",
      "     Unnamed: 0      지역  코드  특성화고  과학고\n",
      "130         130    금천구     3     0.329     0.0\n",
      "170         170  동대문구     3     0.327     0.0\n",
      "298         298    성동구     3     0.323     0.0\n",
      "299         299    광진구     3     0.309     0.0\n",
      "316         316    강북구     3     0.305     0.0\n",
      "\n",
      "\n",
      "* key : 8\n",
      "* number : 6\n",
      "     Unnamed: 0      지역  코드  특성화고  과학고\n",
      "74           74    강동구     3     0.215     0.0\n",
      "123         123    금천구     3     0.242     0.0\n",
      "149         149  동대문구     3     0.213     0.0\n",
      "181         181    관악구     3     0.222     0.0\n",
      "311         311    성북구     3     0.222     0.0\n",
      "\n",
      "\n",
      "* key : 9\n",
      "* number : 5\n",
      "     Unnamed: 0    지역  코드  특성화고  과학고\n",
      "219         219  노원구     3     0.110   0.003\n",
      "238         238  도봉구     3     0.115   0.003\n",
      "240         240  도봉구     3     0.098   0.003\n",
      "291         291  성동구     3     0.089   0.003\n",
      "372         372  송파구     3     0.098   0.004\n",
      "\n",
      "\n",
      "* key : 10\n",
      "* number : 5\n",
      "     Unnamed: 0    지역  코드  특성화고  과학고\n",
      "280         280  은평구     3     0.185   0.005\n",
      "294         294  성동구     3     0.179   0.005\n",
      "296         296  성동구     3     0.180   0.005\n",
      "337         337  용산구     3     0.168   0.005\n",
      "345         345  용산구     3     0.201   0.005\n",
      "\n",
      "\n",
      "* key : 11\n",
      "* number : 30\n",
      "     Unnamed: 0    지역  코드  특성화고  과학고\n",
      "384         384  종로구     5       0.0     0.0\n",
      "385         385  마포구     5       0.0     0.0\n",
      "386         386  종로구     5       0.0     0.0\n",
      "387         387  강서구     5       0.0     0.0\n",
      "388         388  서초구     5       0.0     0.0\n",
      "\n",
      "\n"
     ]
    }
   ],
   "source": [
    "grouped3_cols = [0, 1, 3] + columns_list3\n",
    "grouped3 = df.groupby('Cluster3')\n",
    "for key, group in grouped3:\n",
    "    print('* key :', key)\n",
    "    print('* number :', len(group))\n",
    "    print(group.iloc[:, grouped3_cols].head())\n",
    "    print('\\n')"
   ]
  },
  {
   "cell_type": "code",
   "execution_count": 45,
   "metadata": {},
   "outputs": [],
   "source": [
    "cluster3_map = folium.Map(location=[37.55,126.98], tiles='Stamen Terrain', zoom_start=12)"
   ]
  },
  {
   "cell_type": "code",
   "execution_count": 46,
   "metadata": {},
   "outputs": [],
   "source": [
    "for name, lat, lng, clus in zip(df.학교명, df.위도, df.경도, df.Cluster3):\n",
    "    folium.CircleMarker([lat,lng], radius=5, color=colors[clus],fill=True, fill_color=colors[clus], fill_opacity=0.7, popup=name).add_to(cluster3_map)"
   ]
  },
  {
   "cell_type": "code",
   "execution_count": 47,
   "metadata": {},
   "outputs": [],
   "source": [
    "# 지도를 html 파일로 저장하기\n",
    "cluster3_map.save('./seoul_mschool_cluster3.html')"
   ]
  }
 ],
 "metadata": {
  "interpreter": {
   "hash": "b3ba2566441a7c06988d0923437866b63cedc61552a5af99d1f4fb67d367b25f"
  },
  "kernelspec": {
   "display_name": "Python 3.8.8 ('base')",
   "language": "python",
   "name": "python3"
  },
  "language_info": {
   "codemirror_mode": {
    "name": "ipython",
    "version": 3
   },
   "file_extension": ".py",
   "mimetype": "text/x-python",
   "name": "python",
   "nbconvert_exporter": "python",
   "pygments_lexer": "ipython3",
   "version": "3.8.8"
  },
  "orig_nbformat": 4
 },
 "nbformat": 4,
 "nbformat_minor": 2
}
