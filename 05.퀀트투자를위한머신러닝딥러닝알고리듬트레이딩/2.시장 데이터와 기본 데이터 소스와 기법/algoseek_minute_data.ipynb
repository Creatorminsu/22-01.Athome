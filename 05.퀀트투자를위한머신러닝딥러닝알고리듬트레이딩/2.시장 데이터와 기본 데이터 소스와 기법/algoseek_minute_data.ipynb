{
  "nbformat": 4,
  "nbformat_minor": 0,
  "metadata": {
    "colab": {
      "name": "algoseek_minute_data.ipynb",
      "provenance": [],
      "collapsed_sections": []
    },
    "kernelspec": {
      "name": "python3",
      "display_name": "Python 3"
    },
    "language_info": {
      "name": "python"
    }
  },
  "cells": [
    {
      "cell_type": "code",
      "execution_count": 1,
      "metadata": {
        "id": "3RldlrHiyyBg"
      },
      "outputs": [],
      "source": [
        "import warnings\n",
        "\n",
        "warnings.filterwarnings('ignore')"
      ]
    },
    {
      "cell_type": "code",
      "source": [
        "% matplotlib inline\n",
        "\n",
        "from pathlib import Path\n",
        "from tqdm import tqdm\n",
        "\n",
        "import numpy as np\n",
        "import pandas as pd\n",
        "\n",
        "import matplotlib.pyplot as plt\n",
        "import seaborn as sns"
      ],
      "metadata": {
        "id": "0BUd4chY0ey6"
      },
      "execution_count": 2,
      "outputs": []
    },
    {
      "cell_type": "code",
      "source": [
        "sns.set_style('whitegrid')\n",
        "idx = pd.IndexSlice"
      ],
      "metadata": {
        "id": "oUnLDUdn0gkM"
      },
      "execution_count": 3,
      "outputs": []
    },
    {
      "cell_type": "code",
      "source": [
        "tcols = ['openbartime',\n",
        "         'firsttradetime',\n",
        "         'highbidtime',\n",
        "         'highasktime',\n",
        "         'hightradetime',\n",
        "         'lowbidtime',\n",
        "         'lowasktime',\n",
        "         'lowtradetime',\n",
        "         'closebartime',\n",
        "         'lasttradetime']"
      ],
      "metadata": {
        "id": "r7m87fH40rP6"
      },
      "execution_count": 4,
      "outputs": []
    },
    {
      "cell_type": "code",
      "source": [
        "drop_cols = ['unknowntickvolume',\n",
        "             'cancelsize',\n",
        "             'tradeatcrossorlocked']"
      ],
      "metadata": {
        "id": "nCXxTlKQ0r4n"
      },
      "execution_count": 5,
      "outputs": []
    },
    {
      "cell_type": "code",
      "source": [
        "keep = ['firsttradeprice',\n",
        "        'hightradeprice',\n",
        "        'lowtradeprice',\n",
        "        'lasttradeprice',\n",
        "        'minspread',\n",
        "        'maxspread',\n",
        "        'volumeweightprice',\n",
        "        'nbboquotecount',\n",
        "        'tradeatbid',\n",
        "        'tradeatbidmid',\n",
        "        'tradeatmid',\n",
        "        'tradeatmidask',\n",
        "        'tradeatask',\n",
        "        'volume',\n",
        "        'totaltrades',\n",
        "        'finravolume',\n",
        "        'finravolumeweightprice',\n",
        "        'uptickvolume',\n",
        "        'downtickvolume',\n",
        "        'repeatuptickvolume',\n",
        "        'repeatdowntickvolume',\n",
        "        'tradetomidvolweight',\n",
        "        'tradetomidvolweightrelative']"
      ],
      "metadata": {
        "id": "mzXbjs540trb"
      },
      "execution_count": 6,
      "outputs": []
    },
    {
      "cell_type": "code",
      "source": [
        "columns = {'volumeweightprice': 'price',\n",
        "           'finravolume': 'fvolume',\n",
        "           'finravolumeweightprice': 'fprice',\n",
        "           'uptickvolume': 'up',\n",
        "           'downtickvolume': 'down',\n",
        "           'repeatuptickvolume': 'rup',\n",
        "           'repeatdowntickvolume': 'rdown',\n",
        "           'firsttradeprice': 'first',\n",
        "           'hightradeprice': 'high',\n",
        "           'lowtradeprice': 'low',\n",
        "           'lasttradeprice': 'last',\n",
        "           'nbboquotecount': 'nbbo',\n",
        "           'totaltrades': 'ntrades',\n",
        "           'openbidprice': 'obprice',\n",
        "           'openbidsize': 'obsize',\n",
        "           'openaskprice': 'oaprice',\n",
        "           'openasksize': 'oasize',\n",
        "           'highbidprice': 'hbprice',\n",
        "           'highbidsize': 'hbsize',\n",
        "           'highaskprice': 'haprice',\n",
        "           'highasksize': 'hasize',\n",
        "           'lowbidprice': 'lbprice',\n",
        "           'lowbidsize': 'lbsize',\n",
        "           'lowaskprice': 'laprice',\n",
        "           'lowasksize': 'lasize',\n",
        "           'closebidprice': 'cbprice',\n",
        "           'closebidsize': 'cbsize',\n",
        "           'closeaskprice': 'caprice',\n",
        "           'closeasksize': 'casize',\n",
        "           'firsttradesize': 'firstsize',\n",
        "           'hightradesize': 'highsize',\n",
        "           'lowtradesize': 'lowsize',\n",
        "           'lasttradesize': 'lastsize',\n",
        "           'tradetomidvolweight': 'volweight',\n",
        "           'tradetomidvolweightrelative': 'volweightrel'}"
      ],
      "metadata": {
        "id": "vxGKX0Su0vVU"
      },
      "execution_count": 7,
      "outputs": []
    },
    {
      "cell_type": "code",
      "source": [
        "nasdaq_path = Path('../../data/nasdaq100')"
      ],
      "metadata": {
        "id": "x-sGGmkU07UU"
      },
      "execution_count": null,
      "outputs": []
    },
    {
      "cell_type": "code",
      "source": [
        "def extract_and_combine_data():\n",
        "    path = nasdaq_path / '1min_taq'\n",
        "    if not path.exists():\n",
        "        path.mkdir(parents=True)\n",
        "\n",
        "    data = []\n",
        "    # ~80K files to process\n",
        "    for f in tqdm(list(path.glob('*/**/*.csv.gz'))):\n",
        "        data.append(pd.read_csv(f, parse_dates=[['Date', 'TimeBarStart']])\n",
        "                    .rename(columns=str.lower)\n",
        "                    .drop(tcols + drop_cols, axis=1)\n",
        "                    .rename(columns=columns)\n",
        "                    .set_index('date_timebarstart')\n",
        "                    .sort_index()\n",
        "                    .between_time('9:30', '16:00')\n",
        "                    .set_index('ticker', append=True)\n",
        "                    .swaplevel()\n",
        "                    .rename(columns=lambda x: x.replace('tradeat', 'at')))\n",
        "    data = pd.concat(data).apply(pd.to_numeric, downcast='integer')\n",
        "    data.index.rename(['ticker', 'date_time'], inplace=True)\n",
        "    print(data.info(show_counts=True))\n",
        "    data.to_hdf(nasdaq_path / 'algoseek.h5', 'min_taq')"
      ],
      "metadata": {
        "id": "sQSVWBMH08Fk"
      },
      "execution_count": null,
      "outputs": []
    },
    {
      "cell_type": "code",
      "source": [
        "extract_and_combine_data()"
      ],
      "metadata": {
        "id": "xLWp2xFG08vR"
      },
      "execution_count": null,
      "outputs": []
    },
    {
      "cell_type": "code",
      "source": [
        "df = pd.read_hdf(nasdaq_path / 'algoseek.h5', 'min_taq')"
      ],
      "metadata": {
        "id": "Woq3f_Pn09aP"
      },
      "execution_count": null,
      "outputs": []
    },
    {
      "cell_type": "code",
      "source": [
        "df.info(null_counts=True)"
      ],
      "metadata": {
        "id": "sUz24MVh0-Bv"
      },
      "execution_count": null,
      "outputs": []
    },
    {
      "cell_type": "code",
      "source": [
        "len(df.index.unique('ticker'))"
      ],
      "metadata": {
        "id": "g16DpPRE1Cv-"
      },
      "execution_count": null,
      "outputs": []
    },
    {
      "cell_type": "code",
      "source": [
        "constituents = (df.groupby([df.index.get_level_values('date_time').date, 'ticker'])\n",
        "                .size()\n",
        "                .unstack('ticker')\n",
        "                .notnull()\n",
        "                .astype(int)\n",
        "                .replace(0, np.nan))\n",
        "\n",
        "constituents.index = pd.to_datetime(constituents.index)\n",
        "constituents = constituents.resample('M').max()\n",
        "constituents.index = constituents.index.date"
      ],
      "metadata": {
        "id": "Kdt9DO3D1Dre"
      },
      "execution_count": null,
      "outputs": []
    },
    {
      "cell_type": "code",
      "source": [
        "fig, ax = plt.subplots(figsize=(20, 20))\n",
        "mask = constituents.T.isnull()\n",
        "ax = sns.heatmap(constituents.T, mask=mask, cbar=False, ax=ax, cmap='Blues_r')\n",
        "ax.set_ylabel('')\n",
        "fig.suptitle('NASDAQ100 Constituents (2015-2017)')\n",
        "fig.tight_layout();"
      ],
      "metadata": {
        "id": "PFk4tIzN1E-e"
      },
      "execution_count": null,
      "outputs": []
    }
  ]
}